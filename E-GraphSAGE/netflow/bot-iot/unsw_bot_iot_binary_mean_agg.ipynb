{
 "cells": [
  {
   "cell_type": "code",
   "metadata": {
    "colab": {
     "base_uri": "https://localhost:8080/"
    },
    "id": "mS0bWISTqhMI",
    "outputId": "3539bf35-ccff-45b3-a8b1-013219f1dbec",
    "ExecuteTime": {
     "end_time": "2025-08-31T12:17:41.420605Z",
     "start_time": "2025-08-31T12:17:41.337150Z"
    }
   },
   "source": [
    "import dgl.nn as dglnn\n",
    "from dgl import from_networkx\n",
    "import torch.nn as nn\n",
    "import torch as th\n",
    "import torch.nn.functional as F\n",
    "import dgl.function as fn\n",
    "import networkx as nx\n",
    "import pandas as pd\n",
    "import socket\n",
    "import struct\n",
    "import random\n",
    "from sklearn.preprocessing import LabelEncoder\n",
    "from sklearn.preprocessing import StandardScaler\n",
    "from sklearn.model_selection import train_test_split\n",
    "import category_encoders as ce\n",
    "from sklearn.decomposition import PCA\n",
    "import seaborn as sns\n",
    "import matplotlib.pyplot as plt\n",
    "import numpy as np"
   ],
   "outputs": [
    {
     "ename": "ModuleNotFoundError",
     "evalue": "No module named 'dgl'",
     "output_type": "error",
     "traceback": [
      "\u001B[1;31m---------------------------------------------------------------------------\u001B[0m",
      "\u001B[1;31mModuleNotFoundError\u001B[0m                       Traceback (most recent call last)",
      "Cell \u001B[1;32mIn[1], line 1\u001B[0m\n\u001B[1;32m----> 1\u001B[0m \u001B[38;5;28;01mimport\u001B[39;00m\u001B[38;5;250m \u001B[39m\u001B[38;5;21;01mdgl\u001B[39;00m\u001B[38;5;21;01m.\u001B[39;00m\u001B[38;5;21;01mnn\u001B[39;00m\u001B[38;5;250m \u001B[39m\u001B[38;5;28;01mas\u001B[39;00m\u001B[38;5;250m \u001B[39m\u001B[38;5;21;01mdglnn\u001B[39;00m\n\u001B[0;32m      2\u001B[0m \u001B[38;5;28;01mfrom\u001B[39;00m\u001B[38;5;250m \u001B[39m\u001B[38;5;21;01mdgl\u001B[39;00m\u001B[38;5;250m \u001B[39m\u001B[38;5;28;01mimport\u001B[39;00m from_networkx\n\u001B[0;32m      3\u001B[0m \u001B[38;5;28;01mimport\u001B[39;00m\u001B[38;5;250m \u001B[39m\u001B[38;5;21;01mtorch\u001B[39;00m\u001B[38;5;21;01m.\u001B[39;00m\u001B[38;5;21;01mnn\u001B[39;00m\u001B[38;5;250m \u001B[39m\u001B[38;5;28;01mas\u001B[39;00m\u001B[38;5;250m \u001B[39m\u001B[38;5;21;01mnn\u001B[39;00m\n",
      "\u001B[1;31mModuleNotFoundError\u001B[0m: No module named 'dgl'"
     ]
    }
   ],
   "execution_count": 1
  },
  {
   "cell_type": "code",
   "execution_count": 2,
   "metadata": {
    "id": "ki0watiErdJp"
   },
   "outputs": [],
   "source": [
    "data = pd.read_csv('NF-BoT-IoT.csv')"
   ]
  },
  {
   "cell_type": "code",
   "execution_count": 3,
   "metadata": {
    "colab": {
     "base_uri": "https://localhost:8080/",
     "height": 439
    },
    "id": "0JmyVopVrqWQ",
    "outputId": "1d57507e-d714-402e-8aa5-37e378101020"
   },
   "outputs": [
    {
     "data": {
      "text/html": [
       "<div>\n",
       "<style scoped>\n",
       "    .dataframe tbody tr th:only-of-type {\n",
       "        vertical-align: middle;\n",
       "    }\n",
       "\n",
       "    .dataframe tbody tr th {\n",
       "        vertical-align: top;\n",
       "    }\n",
       "\n",
       "    .dataframe thead th {\n",
       "        text-align: right;\n",
       "    }\n",
       "</style>\n",
       "<table border=\"1\" class=\"dataframe\">\n",
       "  <thead>\n",
       "    <tr style=\"text-align: right;\">\n",
       "      <th></th>\n",
       "      <th>IPV4_SRC_ADDR</th>\n",
       "      <th>L4_SRC_PORT</th>\n",
       "      <th>IPV4_DST_ADDR</th>\n",
       "      <th>L4_DST_PORT</th>\n",
       "      <th>PROTOCOL</th>\n",
       "      <th>L7_PROTO</th>\n",
       "      <th>IN_BYTES</th>\n",
       "      <th>OUT_BYTES</th>\n",
       "      <th>IN_PKTS</th>\n",
       "      <th>OUT_PKTS</th>\n",
       "      <th>TCP_FLAGS</th>\n",
       "      <th>FLOW_DURATION_MILLISECONDS</th>\n",
       "      <th>Label</th>\n",
       "      <th>Attack</th>\n",
       "    </tr>\n",
       "  </thead>\n",
       "  <tbody>\n",
       "    <tr>\n",
       "      <th>0</th>\n",
       "      <td>192.168.100.6</td>\n",
       "      <td>52670</td>\n",
       "      <td>192.168.100.1</td>\n",
       "      <td>53</td>\n",
       "      <td>17</td>\n",
       "      <td>5.212</td>\n",
       "      <td>71</td>\n",
       "      <td>126</td>\n",
       "      <td>1</td>\n",
       "      <td>1</td>\n",
       "      <td>0</td>\n",
       "      <td>4294966</td>\n",
       "      <td>0</td>\n",
       "      <td>Benign</td>\n",
       "    </tr>\n",
       "    <tr>\n",
       "      <th>1</th>\n",
       "      <td>192.168.100.6</td>\n",
       "      <td>49160</td>\n",
       "      <td>192.168.100.149</td>\n",
       "      <td>4444</td>\n",
       "      <td>6</td>\n",
       "      <td>0.000</td>\n",
       "      <td>217753000</td>\n",
       "      <td>199100</td>\n",
       "      <td>4521</td>\n",
       "      <td>4049</td>\n",
       "      <td>24</td>\n",
       "      <td>4176249</td>\n",
       "      <td>1</td>\n",
       "      <td>Theft</td>\n",
       "    </tr>\n",
       "    <tr>\n",
       "      <th>2</th>\n",
       "      <td>192.168.100.46</td>\n",
       "      <td>3456</td>\n",
       "      <td>192.168.100.5</td>\n",
       "      <td>80</td>\n",
       "      <td>17</td>\n",
       "      <td>0.000</td>\n",
       "      <td>8508021</td>\n",
       "      <td>8918372</td>\n",
       "      <td>9086</td>\n",
       "      <td>9086</td>\n",
       "      <td>0</td>\n",
       "      <td>4175916</td>\n",
       "      <td>0</td>\n",
       "      <td>Benign</td>\n",
       "    </tr>\n",
       "    <tr>\n",
       "      <th>3</th>\n",
       "      <td>192.168.100.3</td>\n",
       "      <td>80</td>\n",
       "      <td>192.168.100.55</td>\n",
       "      <td>8080</td>\n",
       "      <td>6</td>\n",
       "      <td>7.000</td>\n",
       "      <td>8442138</td>\n",
       "      <td>9013406</td>\n",
       "      <td>9086</td>\n",
       "      <td>9086</td>\n",
       "      <td>0</td>\n",
       "      <td>4175916</td>\n",
       "      <td>0</td>\n",
       "      <td>Benign</td>\n",
       "    </tr>\n",
       "    <tr>\n",
       "      <th>4</th>\n",
       "      <td>192.168.100.46</td>\n",
       "      <td>80</td>\n",
       "      <td>192.168.100.5</td>\n",
       "      <td>80</td>\n",
       "      <td>6</td>\n",
       "      <td>7.000</td>\n",
       "      <td>8374706</td>\n",
       "      <td>0</td>\n",
       "      <td>9086</td>\n",
       "      <td>0</td>\n",
       "      <td>0</td>\n",
       "      <td>4175916</td>\n",
       "      <td>0</td>\n",
       "      <td>Benign</td>\n",
       "    </tr>\n",
       "    <tr>\n",
       "      <th>...</th>\n",
       "      <td>...</td>\n",
       "      <td>...</td>\n",
       "      <td>...</td>\n",
       "      <td>...</td>\n",
       "      <td>...</td>\n",
       "      <td>...</td>\n",
       "      <td>...</td>\n",
       "      <td>...</td>\n",
       "      <td>...</td>\n",
       "      <td>...</td>\n",
       "      <td>...</td>\n",
       "      <td>...</td>\n",
       "      <td>...</td>\n",
       "      <td>...</td>\n",
       "    </tr>\n",
       "    <tr>\n",
       "      <th>600095</th>\n",
       "      <td>192.168.100.46</td>\n",
       "      <td>80</td>\n",
       "      <td>192.168.100.5</td>\n",
       "      <td>80</td>\n",
       "      <td>6</td>\n",
       "      <td>7.000</td>\n",
       "      <td>2330065</td>\n",
       "      <td>0</td>\n",
       "      <td>2523</td>\n",
       "      <td>0</td>\n",
       "      <td>0</td>\n",
       "      <td>4263037</td>\n",
       "      <td>0</td>\n",
       "      <td>Benign</td>\n",
       "    </tr>\n",
       "    <tr>\n",
       "      <th>600096</th>\n",
       "      <td>192.168.100.5</td>\n",
       "      <td>0</td>\n",
       "      <td>192.168.100.3</td>\n",
       "      <td>0</td>\n",
       "      <td>6</td>\n",
       "      <td>0.000</td>\n",
       "      <td>1054423</td>\n",
       "      <td>0</td>\n",
       "      <td>1513</td>\n",
       "      <td>0</td>\n",
       "      <td>0</td>\n",
       "      <td>4263062</td>\n",
       "      <td>0</td>\n",
       "      <td>Benign</td>\n",
       "    </tr>\n",
       "    <tr>\n",
       "      <th>600097</th>\n",
       "      <td>192.168.100.7</td>\n",
       "      <td>365</td>\n",
       "      <td>192.168.100.3</td>\n",
       "      <td>565</td>\n",
       "      <td>17</td>\n",
       "      <td>0.000</td>\n",
       "      <td>62422</td>\n",
       "      <td>0</td>\n",
       "      <td>1357</td>\n",
       "      <td>0</td>\n",
       "      <td>0</td>\n",
       "      <td>4263062</td>\n",
       "      <td>0</td>\n",
       "      <td>Benign</td>\n",
       "    </tr>\n",
       "    <tr>\n",
       "      <th>600098</th>\n",
       "      <td>192.168.100.3</td>\n",
       "      <td>50850</td>\n",
       "      <td>13.54.166.67</td>\n",
       "      <td>8883</td>\n",
       "      <td>6</td>\n",
       "      <td>222.178</td>\n",
       "      <td>11300</td>\n",
       "      <td>1664</td>\n",
       "      <td>32</td>\n",
       "      <td>32</td>\n",
       "      <td>24</td>\n",
       "      <td>4264935</td>\n",
       "      <td>0</td>\n",
       "      <td>Benign</td>\n",
       "    </tr>\n",
       "    <tr>\n",
       "      <th>600099</th>\n",
       "      <td>192.168.100.6</td>\n",
       "      <td>49160</td>\n",
       "      <td>192.168.100.149</td>\n",
       "      <td>4444</td>\n",
       "      <td>6</td>\n",
       "      <td>0.000</td>\n",
       "      <td>40102320</td>\n",
       "      <td>37280</td>\n",
       "      <td>763</td>\n",
       "      <td>590</td>\n",
       "      <td>24</td>\n",
       "      <td>4270068</td>\n",
       "      <td>1</td>\n",
       "      <td>Theft</td>\n",
       "    </tr>\n",
       "  </tbody>\n",
       "</table>\n",
       "<p>600100 rows × 14 columns</p>\n",
       "</div>"
      ],
      "text/plain": [
       "         IPV4_SRC_ADDR  L4_SRC_PORT  ... Label  Attack\n",
       "0        192.168.100.6        52670  ...     0  Benign\n",
       "1        192.168.100.6        49160  ...     1   Theft\n",
       "2       192.168.100.46         3456  ...     0  Benign\n",
       "3        192.168.100.3           80  ...     0  Benign\n",
       "4       192.168.100.46           80  ...     0  Benign\n",
       "...                ...          ...  ...   ...     ...\n",
       "600095  192.168.100.46           80  ...     0  Benign\n",
       "600096   192.168.100.5            0  ...     0  Benign\n",
       "600097   192.168.100.7          365  ...     0  Benign\n",
       "600098   192.168.100.3        50850  ...     0  Benign\n",
       "600099   192.168.100.6        49160  ...     1   Theft\n",
       "\n",
       "[600100 rows x 14 columns]"
      ]
     },
     "execution_count": 3,
     "metadata": {
      "tags": []
     },
     "output_type": "execute_result"
    }
   ],
   "source": [
    "data"
   ]
  },
  {
   "cell_type": "code",
   "execution_count": 4,
   "metadata": {
    "id": "PoVYaeFZtJBd"
   },
   "outputs": [],
   "source": [
    "data['IPV4_SRC_ADDR'] = data.IPV4_SRC_ADDR.apply(lambda x: socket.inet_ntoa(struct.pack('>I', random.randint(0xac100001, 0xac1f0001))))"
   ]
  },
  {
   "cell_type": "code",
   "execution_count": 5,
   "metadata": {
    "id": "zs4z58WCtu8k"
   },
   "outputs": [],
   "source": [
    "data['IPV4_SRC_ADDR'] = data.IPV4_SRC_ADDR.apply(str)\n",
    "data['L4_SRC_PORT'] = data.L4_SRC_PORT.apply(str)\n",
    "data['IPV4_DST_ADDR'] = data.IPV4_DST_ADDR.apply(str)\n",
    "data['L4_DST_PORT'] = data.L4_DST_PORT.apply(str)"
   ]
  },
  {
   "cell_type": "code",
   "execution_count": 6,
   "metadata": {
    "id": "9EEwTAK3tle9"
   },
   "outputs": [],
   "source": [
    "data['IPV4_SRC_ADDR'] = data['IPV4_SRC_ADDR'] + ':' + data['L4_SRC_PORT']\n",
    "data['IPV4_DST_ADDR'] = data['IPV4_DST_ADDR'] + ':' + data['L4_DST_PORT']"
   ]
  },
  {
   "cell_type": "code",
   "execution_count": 7,
   "metadata": {
    "id": "xbdaHUxOtzd-"
   },
   "outputs": [],
   "source": [
    "data.drop(columns=['L4_SRC_PORT','L4_DST_PORT'],inplace=True)"
   ]
  },
  {
   "cell_type": "code",
   "execution_count": 8,
   "metadata": {
    "colab": {
     "base_uri": "https://localhost:8080/",
     "height": 439
    },
    "id": "CN9rLLmr0eeI",
    "outputId": "b0d9ee9b-3642-4542-92b8-41ec68edeb26"
   },
   "outputs": [
    {
     "data": {
      "text/html": [
       "<div>\n",
       "<style scoped>\n",
       "    .dataframe tbody tr th:only-of-type {\n",
       "        vertical-align: middle;\n",
       "    }\n",
       "\n",
       "    .dataframe tbody tr th {\n",
       "        vertical-align: top;\n",
       "    }\n",
       "\n",
       "    .dataframe thead th {\n",
       "        text-align: right;\n",
       "    }\n",
       "</style>\n",
       "<table border=\"1\" class=\"dataframe\">\n",
       "  <thead>\n",
       "    <tr style=\"text-align: right;\">\n",
       "      <th></th>\n",
       "      <th>IPV4_SRC_ADDR</th>\n",
       "      <th>IPV4_DST_ADDR</th>\n",
       "      <th>PROTOCOL</th>\n",
       "      <th>L7_PROTO</th>\n",
       "      <th>IN_BYTES</th>\n",
       "      <th>OUT_BYTES</th>\n",
       "      <th>IN_PKTS</th>\n",
       "      <th>OUT_PKTS</th>\n",
       "      <th>TCP_FLAGS</th>\n",
       "      <th>FLOW_DURATION_MILLISECONDS</th>\n",
       "      <th>Label</th>\n",
       "      <th>Attack</th>\n",
       "    </tr>\n",
       "  </thead>\n",
       "  <tbody>\n",
       "    <tr>\n",
       "      <th>0</th>\n",
       "      <td>172.16.136.22:52670</td>\n",
       "      <td>192.168.100.1:53</td>\n",
       "      <td>17</td>\n",
       "      <td>5.212</td>\n",
       "      <td>71</td>\n",
       "      <td>126</td>\n",
       "      <td>1</td>\n",
       "      <td>1</td>\n",
       "      <td>0</td>\n",
       "      <td>4294966</td>\n",
       "      <td>0</td>\n",
       "      <td>Benign</td>\n",
       "    </tr>\n",
       "    <tr>\n",
       "      <th>1</th>\n",
       "      <td>172.19.122.45:49160</td>\n",
       "      <td>192.168.100.149:4444</td>\n",
       "      <td>6</td>\n",
       "      <td>0.000</td>\n",
       "      <td>217753000</td>\n",
       "      <td>199100</td>\n",
       "      <td>4521</td>\n",
       "      <td>4049</td>\n",
       "      <td>24</td>\n",
       "      <td>4176249</td>\n",
       "      <td>1</td>\n",
       "      <td>Theft</td>\n",
       "    </tr>\n",
       "    <tr>\n",
       "      <th>2</th>\n",
       "      <td>172.19.178.98:3456</td>\n",
       "      <td>192.168.100.5:80</td>\n",
       "      <td>17</td>\n",
       "      <td>0.000</td>\n",
       "      <td>8508021</td>\n",
       "      <td>8918372</td>\n",
       "      <td>9086</td>\n",
       "      <td>9086</td>\n",
       "      <td>0</td>\n",
       "      <td>4175916</td>\n",
       "      <td>0</td>\n",
       "      <td>Benign</td>\n",
       "    </tr>\n",
       "    <tr>\n",
       "      <th>3</th>\n",
       "      <td>172.27.217.67:80</td>\n",
       "      <td>192.168.100.55:8080</td>\n",
       "      <td>6</td>\n",
       "      <td>7.000</td>\n",
       "      <td>8442138</td>\n",
       "      <td>9013406</td>\n",
       "      <td>9086</td>\n",
       "      <td>9086</td>\n",
       "      <td>0</td>\n",
       "      <td>4175916</td>\n",
       "      <td>0</td>\n",
       "      <td>Benign</td>\n",
       "    </tr>\n",
       "    <tr>\n",
       "      <th>4</th>\n",
       "      <td>172.17.161.166:80</td>\n",
       "      <td>192.168.100.5:80</td>\n",
       "      <td>6</td>\n",
       "      <td>7.000</td>\n",
       "      <td>8374706</td>\n",
       "      <td>0</td>\n",
       "      <td>9086</td>\n",
       "      <td>0</td>\n",
       "      <td>0</td>\n",
       "      <td>4175916</td>\n",
       "      <td>0</td>\n",
       "      <td>Benign</td>\n",
       "    </tr>\n",
       "    <tr>\n",
       "      <th>...</th>\n",
       "      <td>...</td>\n",
       "      <td>...</td>\n",
       "      <td>...</td>\n",
       "      <td>...</td>\n",
       "      <td>...</td>\n",
       "      <td>...</td>\n",
       "      <td>...</td>\n",
       "      <td>...</td>\n",
       "      <td>...</td>\n",
       "      <td>...</td>\n",
       "      <td>...</td>\n",
       "      <td>...</td>\n",
       "    </tr>\n",
       "    <tr>\n",
       "      <th>600095</th>\n",
       "      <td>172.16.170.111:80</td>\n",
       "      <td>192.168.100.5:80</td>\n",
       "      <td>6</td>\n",
       "      <td>7.000</td>\n",
       "      <td>2330065</td>\n",
       "      <td>0</td>\n",
       "      <td>2523</td>\n",
       "      <td>0</td>\n",
       "      <td>0</td>\n",
       "      <td>4263037</td>\n",
       "      <td>0</td>\n",
       "      <td>Benign</td>\n",
       "    </tr>\n",
       "    <tr>\n",
       "      <th>600096</th>\n",
       "      <td>172.16.99.96:0</td>\n",
       "      <td>192.168.100.3:0</td>\n",
       "      <td>6</td>\n",
       "      <td>0.000</td>\n",
       "      <td>1054423</td>\n",
       "      <td>0</td>\n",
       "      <td>1513</td>\n",
       "      <td>0</td>\n",
       "      <td>0</td>\n",
       "      <td>4263062</td>\n",
       "      <td>0</td>\n",
       "      <td>Benign</td>\n",
       "    </tr>\n",
       "    <tr>\n",
       "      <th>600097</th>\n",
       "      <td>172.19.110.55:365</td>\n",
       "      <td>192.168.100.3:565</td>\n",
       "      <td>17</td>\n",
       "      <td>0.000</td>\n",
       "      <td>62422</td>\n",
       "      <td>0</td>\n",
       "      <td>1357</td>\n",
       "      <td>0</td>\n",
       "      <td>0</td>\n",
       "      <td>4263062</td>\n",
       "      <td>0</td>\n",
       "      <td>Benign</td>\n",
       "    </tr>\n",
       "    <tr>\n",
       "      <th>600098</th>\n",
       "      <td>172.20.134.141:50850</td>\n",
       "      <td>13.54.166.67:8883</td>\n",
       "      <td>6</td>\n",
       "      <td>222.178</td>\n",
       "      <td>11300</td>\n",
       "      <td>1664</td>\n",
       "      <td>32</td>\n",
       "      <td>32</td>\n",
       "      <td>24</td>\n",
       "      <td>4264935</td>\n",
       "      <td>0</td>\n",
       "      <td>Benign</td>\n",
       "    </tr>\n",
       "    <tr>\n",
       "      <th>600099</th>\n",
       "      <td>172.24.119.121:49160</td>\n",
       "      <td>192.168.100.149:4444</td>\n",
       "      <td>6</td>\n",
       "      <td>0.000</td>\n",
       "      <td>40102320</td>\n",
       "      <td>37280</td>\n",
       "      <td>763</td>\n",
       "      <td>590</td>\n",
       "      <td>24</td>\n",
       "      <td>4270068</td>\n",
       "      <td>1</td>\n",
       "      <td>Theft</td>\n",
       "    </tr>\n",
       "  </tbody>\n",
       "</table>\n",
       "<p>600100 rows × 12 columns</p>\n",
       "</div>"
      ],
      "text/plain": [
       "               IPV4_SRC_ADDR         IPV4_DST_ADDR  ...  Label  Attack\n",
       "0        172.16.136.22:52670      192.168.100.1:53  ...      0  Benign\n",
       "1        172.19.122.45:49160  192.168.100.149:4444  ...      1   Theft\n",
       "2         172.19.178.98:3456      192.168.100.5:80  ...      0  Benign\n",
       "3           172.27.217.67:80   192.168.100.55:8080  ...      0  Benign\n",
       "4          172.17.161.166:80      192.168.100.5:80  ...      0  Benign\n",
       "...                      ...                   ...  ...    ...     ...\n",
       "600095     172.16.170.111:80      192.168.100.5:80  ...      0  Benign\n",
       "600096        172.16.99.96:0       192.168.100.3:0  ...      0  Benign\n",
       "600097     172.19.110.55:365     192.168.100.3:565  ...      0  Benign\n",
       "600098  172.20.134.141:50850     13.54.166.67:8883  ...      0  Benign\n",
       "600099  172.24.119.121:49160  192.168.100.149:4444  ...      1   Theft\n",
       "\n",
       "[600100 rows x 12 columns]"
      ]
     },
     "execution_count": 8,
     "metadata": {
      "tags": []
     },
     "output_type": "execute_result"
    }
   ],
   "source": [
    "data"
   ]
  },
  {
   "cell_type": "code",
   "execution_count": 9,
   "metadata": {
    "id": "C_WU15ngvnBM"
   },
   "outputs": [],
   "source": [
    "data.drop(columns=['Attack'],inplace = True)"
   ]
  },
  {
   "cell_type": "code",
   "execution_count": 10,
   "metadata": {
    "id": "Q0d3nbdiv37j"
   },
   "outputs": [],
   "source": [
    "data.rename(columns={\"Label\": \"label\"},inplace = True)"
   ]
  },
  {
   "cell_type": "code",
   "execution_count": 11,
   "metadata": {
    "id": "SVgjPVfg03XG"
   },
   "outputs": [],
   "source": [
    "label = data.label"
   ]
  },
  {
   "cell_type": "code",
   "execution_count": 12,
   "metadata": {
    "id": "ADl2Fj7H08Rr"
   },
   "outputs": [],
   "source": [
    "data.drop(columns=['label'],inplace = True)"
   ]
  },
  {
   "cell_type": "code",
   "execution_count": 13,
   "metadata": {
    "id": "qhsZMD3uwLk7"
   },
   "outputs": [],
   "source": [
    "scaler = StandardScaler()"
   ]
  },
  {
   "cell_type": "code",
   "execution_count": 14,
   "metadata": {
    "id": "aukoVdNf2zcp"
   },
   "outputs": [],
   "source": [
    "data =  pd.concat([data, label], axis=1)"
   ]
  },
  {
   "cell_type": "code",
   "execution_count": 15,
   "metadata": {
    "colab": {
     "base_uri": "https://localhost:8080/",
     "height": 439
    },
    "id": "IP-ZEZW4nxSm",
    "outputId": "e00c48bf-d374-4cd6-86d2-ecd75877f928"
   },
   "outputs": [
    {
     "data": {
      "text/html": [
       "<div>\n",
       "<style scoped>\n",
       "    .dataframe tbody tr th:only-of-type {\n",
       "        vertical-align: middle;\n",
       "    }\n",
       "\n",
       "    .dataframe tbody tr th {\n",
       "        vertical-align: top;\n",
       "    }\n",
       "\n",
       "    .dataframe thead th {\n",
       "        text-align: right;\n",
       "    }\n",
       "</style>\n",
       "<table border=\"1\" class=\"dataframe\">\n",
       "  <thead>\n",
       "    <tr style=\"text-align: right;\">\n",
       "      <th></th>\n",
       "      <th>IPV4_SRC_ADDR</th>\n",
       "      <th>IPV4_DST_ADDR</th>\n",
       "      <th>PROTOCOL</th>\n",
       "      <th>L7_PROTO</th>\n",
       "      <th>IN_BYTES</th>\n",
       "      <th>OUT_BYTES</th>\n",
       "      <th>IN_PKTS</th>\n",
       "      <th>OUT_PKTS</th>\n",
       "      <th>TCP_FLAGS</th>\n",
       "      <th>FLOW_DURATION_MILLISECONDS</th>\n",
       "      <th>label</th>\n",
       "    </tr>\n",
       "  </thead>\n",
       "  <tbody>\n",
       "    <tr>\n",
       "      <th>0</th>\n",
       "      <td>172.16.136.22:52670</td>\n",
       "      <td>192.168.100.1:53</td>\n",
       "      <td>17</td>\n",
       "      <td>5.212</td>\n",
       "      <td>71</td>\n",
       "      <td>126</td>\n",
       "      <td>1</td>\n",
       "      <td>1</td>\n",
       "      <td>0</td>\n",
       "      <td>4294966</td>\n",
       "      <td>0</td>\n",
       "    </tr>\n",
       "    <tr>\n",
       "      <th>1</th>\n",
       "      <td>172.19.122.45:49160</td>\n",
       "      <td>192.168.100.149:4444</td>\n",
       "      <td>6</td>\n",
       "      <td>0.000</td>\n",
       "      <td>217753000</td>\n",
       "      <td>199100</td>\n",
       "      <td>4521</td>\n",
       "      <td>4049</td>\n",
       "      <td>24</td>\n",
       "      <td>4176249</td>\n",
       "      <td>1</td>\n",
       "    </tr>\n",
       "    <tr>\n",
       "      <th>2</th>\n",
       "      <td>172.19.178.98:3456</td>\n",
       "      <td>192.168.100.5:80</td>\n",
       "      <td>17</td>\n",
       "      <td>0.000</td>\n",
       "      <td>8508021</td>\n",
       "      <td>8918372</td>\n",
       "      <td>9086</td>\n",
       "      <td>9086</td>\n",
       "      <td>0</td>\n",
       "      <td>4175916</td>\n",
       "      <td>0</td>\n",
       "    </tr>\n",
       "    <tr>\n",
       "      <th>3</th>\n",
       "      <td>172.27.217.67:80</td>\n",
       "      <td>192.168.100.55:8080</td>\n",
       "      <td>6</td>\n",
       "      <td>7.000</td>\n",
       "      <td>8442138</td>\n",
       "      <td>9013406</td>\n",
       "      <td>9086</td>\n",
       "      <td>9086</td>\n",
       "      <td>0</td>\n",
       "      <td>4175916</td>\n",
       "      <td>0</td>\n",
       "    </tr>\n",
       "    <tr>\n",
       "      <th>4</th>\n",
       "      <td>172.17.161.166:80</td>\n",
       "      <td>192.168.100.5:80</td>\n",
       "      <td>6</td>\n",
       "      <td>7.000</td>\n",
       "      <td>8374706</td>\n",
       "      <td>0</td>\n",
       "      <td>9086</td>\n",
       "      <td>0</td>\n",
       "      <td>0</td>\n",
       "      <td>4175916</td>\n",
       "      <td>0</td>\n",
       "    </tr>\n",
       "    <tr>\n",
       "      <th>...</th>\n",
       "      <td>...</td>\n",
       "      <td>...</td>\n",
       "      <td>...</td>\n",
       "      <td>...</td>\n",
       "      <td>...</td>\n",
       "      <td>...</td>\n",
       "      <td>...</td>\n",
       "      <td>...</td>\n",
       "      <td>...</td>\n",
       "      <td>...</td>\n",
       "      <td>...</td>\n",
       "    </tr>\n",
       "    <tr>\n",
       "      <th>600095</th>\n",
       "      <td>172.16.170.111:80</td>\n",
       "      <td>192.168.100.5:80</td>\n",
       "      <td>6</td>\n",
       "      <td>7.000</td>\n",
       "      <td>2330065</td>\n",
       "      <td>0</td>\n",
       "      <td>2523</td>\n",
       "      <td>0</td>\n",
       "      <td>0</td>\n",
       "      <td>4263037</td>\n",
       "      <td>0</td>\n",
       "    </tr>\n",
       "    <tr>\n",
       "      <th>600096</th>\n",
       "      <td>172.16.99.96:0</td>\n",
       "      <td>192.168.100.3:0</td>\n",
       "      <td>6</td>\n",
       "      <td>0.000</td>\n",
       "      <td>1054423</td>\n",
       "      <td>0</td>\n",
       "      <td>1513</td>\n",
       "      <td>0</td>\n",
       "      <td>0</td>\n",
       "      <td>4263062</td>\n",
       "      <td>0</td>\n",
       "    </tr>\n",
       "    <tr>\n",
       "      <th>600097</th>\n",
       "      <td>172.19.110.55:365</td>\n",
       "      <td>192.168.100.3:565</td>\n",
       "      <td>17</td>\n",
       "      <td>0.000</td>\n",
       "      <td>62422</td>\n",
       "      <td>0</td>\n",
       "      <td>1357</td>\n",
       "      <td>0</td>\n",
       "      <td>0</td>\n",
       "      <td>4263062</td>\n",
       "      <td>0</td>\n",
       "    </tr>\n",
       "    <tr>\n",
       "      <th>600098</th>\n",
       "      <td>172.20.134.141:50850</td>\n",
       "      <td>13.54.166.67:8883</td>\n",
       "      <td>6</td>\n",
       "      <td>222.178</td>\n",
       "      <td>11300</td>\n",
       "      <td>1664</td>\n",
       "      <td>32</td>\n",
       "      <td>32</td>\n",
       "      <td>24</td>\n",
       "      <td>4264935</td>\n",
       "      <td>0</td>\n",
       "    </tr>\n",
       "    <tr>\n",
       "      <th>600099</th>\n",
       "      <td>172.24.119.121:49160</td>\n",
       "      <td>192.168.100.149:4444</td>\n",
       "      <td>6</td>\n",
       "      <td>0.000</td>\n",
       "      <td>40102320</td>\n",
       "      <td>37280</td>\n",
       "      <td>763</td>\n",
       "      <td>590</td>\n",
       "      <td>24</td>\n",
       "      <td>4270068</td>\n",
       "      <td>1</td>\n",
       "    </tr>\n",
       "  </tbody>\n",
       "</table>\n",
       "<p>600100 rows × 11 columns</p>\n",
       "</div>"
      ],
      "text/plain": [
       "               IPV4_SRC_ADDR  ... label\n",
       "0        172.16.136.22:52670  ...     0\n",
       "1        172.19.122.45:49160  ...     1\n",
       "2         172.19.178.98:3456  ...     0\n",
       "3           172.27.217.67:80  ...     0\n",
       "4          172.17.161.166:80  ...     0\n",
       "...                      ...  ...   ...\n",
       "600095     172.16.170.111:80  ...     0\n",
       "600096        172.16.99.96:0  ...     0\n",
       "600097     172.19.110.55:365  ...     0\n",
       "600098  172.20.134.141:50850  ...     0\n",
       "600099  172.24.119.121:49160  ...     1\n",
       "\n",
       "[600100 rows x 11 columns]"
      ]
     },
     "execution_count": 15,
     "metadata": {
      "tags": []
     },
     "output_type": "execute_result"
    }
   ],
   "source": [
    "data"
   ]
  },
  {
   "cell_type": "code",
   "execution_count": 16,
   "metadata": {
    "id": "PUa4uJbewQc7"
   },
   "outputs": [],
   "source": [
    "X_train, X_test, y_train, y_test = train_test_split(\n",
    "     data, label, test_size=0.3, random_state=123,stratify= label)"
   ]
  },
  {
   "cell_type": "code",
   "execution_count": 17,
   "metadata": {
    "colab": {
     "base_uri": "https://localhost:8080/"
    },
    "id": "z3DrIWDHqNxp",
    "outputId": "2cd5cf77-365b-4bb2-cf31-059964f6a6dc"
   },
   "outputs": [
    {
     "name": "stderr",
     "output_type": "stream",
     "text": [
      "/usr/local/lib/python3.6/dist-packages/category_encoders/utils.py:21: FutureWarning: is_categorical is deprecated and will be removed in a future version.  Use is_categorical_dtype instead\n",
      "  elif pd.api.types.is_categorical(cols):\n"
     ]
    }
   ],
   "source": [
    "encoder = ce.TargetEncoder(cols=['TCP_FLAGS','L7_PROTO','PROTOCOL'])\n",
    "encoder.fit(X_train, y_train)\n",
    "X_train = encoder.transform(X_train)"
   ]
  },
  {
   "cell_type": "code",
   "execution_count": 18,
   "metadata": {
    "id": "EDKYHCbcqN81"
   },
   "outputs": [],
   "source": [
    "cols_to_norm = list(set(list(X_train.iloc[:, 2:].columns ))  - set(list(['label'])) )\n",
    "X_train[cols_to_norm] = scaler.fit_transform(X_train[cols_to_norm])"
   ]
  },
  {
   "cell_type": "code",
   "execution_count": 19,
   "metadata": {
    "colab": {
     "base_uri": "https://localhost:8080/",
     "height": 439
    },
    "id": "-TkDCimdrHXQ",
    "outputId": "8905cfb8-f2fe-44ed-91b4-ee98577a946c"
   },
   "outputs": [
    {
     "data": {
      "text/html": [
       "<div>\n",
       "<style scoped>\n",
       "    .dataframe tbody tr th:only-of-type {\n",
       "        vertical-align: middle;\n",
       "    }\n",
       "\n",
       "    .dataframe tbody tr th {\n",
       "        vertical-align: top;\n",
       "    }\n",
       "\n",
       "    .dataframe thead th {\n",
       "        text-align: right;\n",
       "    }\n",
       "</style>\n",
       "<table border=\"1\" class=\"dataframe\">\n",
       "  <thead>\n",
       "    <tr style=\"text-align: right;\">\n",
       "      <th></th>\n",
       "      <th>IPV4_SRC_ADDR</th>\n",
       "      <th>IPV4_DST_ADDR</th>\n",
       "      <th>PROTOCOL</th>\n",
       "      <th>L7_PROTO</th>\n",
       "      <th>IN_BYTES</th>\n",
       "      <th>OUT_BYTES</th>\n",
       "      <th>IN_PKTS</th>\n",
       "      <th>OUT_PKTS</th>\n",
       "      <th>TCP_FLAGS</th>\n",
       "      <th>FLOW_DURATION_MILLISECONDS</th>\n",
       "      <th>label</th>\n",
       "    </tr>\n",
       "  </thead>\n",
       "  <tbody>\n",
       "    <tr>\n",
       "      <th>398456</th>\n",
       "      <td>172.16.54.186:47768</td>\n",
       "      <td>192.168.100.7:2043</td>\n",
       "      <td>0.242607</td>\n",
       "      <td>0.041512</td>\n",
       "      <td>-0.017305</td>\n",
       "      <td>-0.008442</td>\n",
       "      <td>-0.045637</td>\n",
       "      <td>-0.027054</td>\n",
       "      <td>0.343039</td>\n",
       "      <td>0.496716</td>\n",
       "      <td>1</td>\n",
       "    </tr>\n",
       "    <tr>\n",
       "      <th>189579</th>\n",
       "      <td>172.18.59.187:41228</td>\n",
       "      <td>192.168.100.5:1011</td>\n",
       "      <td>0.242607</td>\n",
       "      <td>0.041512</td>\n",
       "      <td>-0.017305</td>\n",
       "      <td>-0.008442</td>\n",
       "      <td>-0.045637</td>\n",
       "      <td>-0.027054</td>\n",
       "      <td>0.343039</td>\n",
       "      <td>0.496716</td>\n",
       "      <td>1</td>\n",
       "    </tr>\n",
       "    <tr>\n",
       "      <th>463036</th>\n",
       "      <td>172.25.238.190:36130</td>\n",
       "      <td>192.168.100.3:5801</td>\n",
       "      <td>0.242607</td>\n",
       "      <td>0.041512</td>\n",
       "      <td>-0.017276</td>\n",
       "      <td>-0.008442</td>\n",
       "      <td>-0.045637</td>\n",
       "      <td>-0.027054</td>\n",
       "      <td>0.343039</td>\n",
       "      <td>0.496716</td>\n",
       "      <td>1</td>\n",
       "    </tr>\n",
       "    <tr>\n",
       "      <th>324954</th>\n",
       "      <td>172.20.41.245:45196</td>\n",
       "      <td>192.168.100.7:1277</td>\n",
       "      <td>0.242607</td>\n",
       "      <td>0.041512</td>\n",
       "      <td>-0.017305</td>\n",
       "      <td>-0.008442</td>\n",
       "      <td>-0.045637</td>\n",
       "      <td>-0.027054</td>\n",
       "      <td>0.343039</td>\n",
       "      <td>0.496716</td>\n",
       "      <td>1</td>\n",
       "    </tr>\n",
       "    <tr>\n",
       "      <th>185030</th>\n",
       "      <td>172.25.9.193:48136</td>\n",
       "      <td>192.168.100.3:2190</td>\n",
       "      <td>0.242607</td>\n",
       "      <td>0.041512</td>\n",
       "      <td>-0.017305</td>\n",
       "      <td>-0.008442</td>\n",
       "      <td>-0.045637</td>\n",
       "      <td>-0.027054</td>\n",
       "      <td>0.343039</td>\n",
       "      <td>0.496716</td>\n",
       "      <td>1</td>\n",
       "    </tr>\n",
       "    <tr>\n",
       "      <th>...</th>\n",
       "      <td>...</td>\n",
       "      <td>...</td>\n",
       "      <td>...</td>\n",
       "      <td>...</td>\n",
       "      <td>...</td>\n",
       "      <td>...</td>\n",
       "      <td>...</td>\n",
       "      <td>...</td>\n",
       "      <td>...</td>\n",
       "      <td>...</td>\n",
       "      <td>...</td>\n",
       "    </tr>\n",
       "    <tr>\n",
       "      <th>169412</th>\n",
       "      <td>172.17.114.147:41020</td>\n",
       "      <td>192.168.100.5:6666</td>\n",
       "      <td>0.242607</td>\n",
       "      <td>0.041512</td>\n",
       "      <td>-0.017305</td>\n",
       "      <td>-0.008442</td>\n",
       "      <td>-0.045637</td>\n",
       "      <td>-0.027054</td>\n",
       "      <td>0.343039</td>\n",
       "      <td>0.496714</td>\n",
       "      <td>1</td>\n",
       "    </tr>\n",
       "    <tr>\n",
       "      <th>522250</th>\n",
       "      <td>172.22.53.208:3780</td>\n",
       "      <td>192.168.100.3:1</td>\n",
       "      <td>0.242607</td>\n",
       "      <td>-3.014581</td>\n",
       "      <td>-0.017313</td>\n",
       "      <td>-0.008442</td>\n",
       "      <td>-0.045637</td>\n",
       "      <td>-0.027054</td>\n",
       "      <td>-0.876614</td>\n",
       "      <td>0.496716</td>\n",
       "      <td>1</td>\n",
       "    </tr>\n",
       "    <tr>\n",
       "      <th>218225</th>\n",
       "      <td>172.16.208.148:45576</td>\n",
       "      <td>192.168.100.3:7741</td>\n",
       "      <td>0.242607</td>\n",
       "      <td>0.041512</td>\n",
       "      <td>-0.017305</td>\n",
       "      <td>-0.008442</td>\n",
       "      <td>-0.045637</td>\n",
       "      <td>-0.027054</td>\n",
       "      <td>0.343039</td>\n",
       "      <td>0.496716</td>\n",
       "      <td>1</td>\n",
       "    </tr>\n",
       "    <tr>\n",
       "      <th>1072</th>\n",
       "      <td>172.29.232.100:42920</td>\n",
       "      <td>192.168.100.3:80</td>\n",
       "      <td>0.242607</td>\n",
       "      <td>0.254635</td>\n",
       "      <td>-0.016184</td>\n",
       "      <td>-0.007523</td>\n",
       "      <td>-0.029495</td>\n",
       "      <td>-0.009069</td>\n",
       "      <td>-0.096099</td>\n",
       "      <td>0.489584</td>\n",
       "      <td>1</td>\n",
       "    </tr>\n",
       "    <tr>\n",
       "      <th>273601</th>\n",
       "      <td>172.26.130.1:58427</td>\n",
       "      <td>192.168.100.7:49153</td>\n",
       "      <td>0.242607</td>\n",
       "      <td>0.041512</td>\n",
       "      <td>-0.017305</td>\n",
       "      <td>-0.008442</td>\n",
       "      <td>-0.045637</td>\n",
       "      <td>-0.027054</td>\n",
       "      <td>0.343039</td>\n",
       "      <td>0.496716</td>\n",
       "      <td>1</td>\n",
       "    </tr>\n",
       "  </tbody>\n",
       "</table>\n",
       "<p>420070 rows × 11 columns</p>\n",
       "</div>"
      ],
      "text/plain": [
       "               IPV4_SRC_ADDR  ... label\n",
       "398456   172.16.54.186:47768  ...     1\n",
       "189579   172.18.59.187:41228  ...     1\n",
       "463036  172.25.238.190:36130  ...     1\n",
       "324954   172.20.41.245:45196  ...     1\n",
       "185030    172.25.9.193:48136  ...     1\n",
       "...                      ...  ...   ...\n",
       "169412  172.17.114.147:41020  ...     1\n",
       "522250    172.22.53.208:3780  ...     1\n",
       "218225  172.16.208.148:45576  ...     1\n",
       "1072    172.29.232.100:42920  ...     1\n",
       "273601    172.26.130.1:58427  ...     1\n",
       "\n",
       "[420070 rows x 11 columns]"
      ]
     },
     "execution_count": 19,
     "metadata": {
      "tags": []
     },
     "output_type": "execute_result"
    }
   ],
   "source": [
    "X_train"
   ]
  },
  {
   "cell_type": "code",
   "execution_count": 20,
   "metadata": {
    "id": "ek535MkWwUHN"
   },
   "outputs": [],
   "source": [
    "# 将特征映射为python list，并且放到h中\n",
    "X_train['h'] = X_train[ cols_to_norm ].values.tolist()"
   ]
  },
  {
   "cell_type": "code",
   "execution_count": 21,
   "metadata": {
    "id": "OIrcNfMSwa0j"
   },
   "outputs": [],
   "source": [
    "'''\n",
    "各部分含义如下：\n",
    "1. nx.from_pandas_edgelist() - NetworkX 的函数，用于从 pandas DataFrame 创建图结构\n",
    "2. X_train - 输入的数据集（pandas DataFrame）\n",
    "3. \"IPV4_SRC_ADDR\" - 源节点列（起始节点），通常是源 IP 地址\n",
    "4. \"IPV4_DST_ADDR\" - 目标节点列（结束节点），通常是目标 IP 地址\n",
    "5. ['h','label'] - 边的属性列，即每条边会携带这些信息：\n",
    "5.1 'h'：之前创建的特征向量列表\n",
    "5.2 'label'：标签信息\n",
    "6. create_using=nx.MultiGraph() - 指定创建的图类型为 MultiGraph（多重图），允许多条边连接同一对节点\n",
    "\n",
    "'''\n",
    "G = nx.from_pandas_edgelist(X_train, \"IPV4_SRC_ADDR\", \"IPV4_DST_ADDR\", ['h','label'],create_using=nx.MultiGraph())"
   ]
  },
  {
   "cell_type": "code",
   "execution_count": 22,
   "metadata": {
    "id": "QluLSxbiwn7M"
   },
   "outputs": [],
   "source": [
    "# 将之前创建的图结构从无向图转换为有向图\n",
    "G = G.to_directed()\n"
   ]
  },
  {
   "cell_type": "code",
   "execution_count": 23,
   "metadata": {
    "id": "2zClkKEzwrVb"
   },
   "outputs": [],
   "source": [
    "# 这行代码是将 NetworkX 图结构转换为 PyTorch Geometric (PyG) 图结构。\n",
    "G = from_networkx(G,edge_attrs=['h','label'] )\n",
    "\n",
    "'''\n",
    "为什么需要这个转换？\n",
    "NetworkX 主要用于图的创建和基本操作，而 PyTorch Geometric 是专门用于图神经网络的库\n",
    "PyG 提供了高效的图神经网络操作和 GPU 支持\n",
    "图神经网络模型（如 GraphSAGE）在 PyG 中更容易实现和训练\n",
    "通过 edge_attrs 参数确保重要的边属性（特征和标签）被保留并可用于后续的机器学习任务\n",
    "'''\n"
   ]
  },
  {
   "cell_type": "code",
   "execution_count": 24,
   "metadata": {
    "id": "9jlBYgE8wsW7"
   },
   "outputs": [],
   "source": [
    "# Eq1\n",
    "G.ndata['h'] = th.ones(G.num_nodes(), G.edata['h'].shape[1])"
   ]
  },
  {
   "cell_type": "code",
   "execution_count": 25,
   "metadata": {
    "id": "E7Vc6IELwuJr"
   },
   "outputs": [],
   "source": [
    "'''\n",
    "具体来说：\n",
    "创建了一个与边数量相同的布尔型数组，所有值都为True\n",
    "这个掩码用于指示哪些边参与模型训练\n",
    "在这个例子中，所有边都被标记为参与训练（值为True）\n",
    "'''\n",
    "G.edata['train_mask'] = th.ones(len(G.edata['h']), dtype=th.bool)\n"
   ]
  },
  {
   "cell_type": "code",
   "execution_count": 26,
   "metadata": {
    "colab": {
     "base_uri": "https://localhost:8080/"
    },
    "id": "BIx7-W6s46Ju",
    "outputId": "5dbe6d1f-61c9-4d25-b7c8-26cd7694a33b"
   },
   "outputs": [
    {
     "data": {
      "text/plain": [
       "tensor([True, True, True,  ..., True, True, True])"
      ]
     },
     "execution_count": 26,
     "metadata": {
      "tags": []
     },
     "output_type": "execute_result"
    }
   ],
   "source": [
    "G.edata['train_mask'] "
   ]
  },
  {
   "cell_type": "code",
   "execution_count": 27,
   "metadata": {
    "id": "DzDap1MR5e95"
   },
   "outputs": [],
   "source": [
    "def compute_accuracy(pred, labels):\n",
    "    return (pred.argmax(1) == labels).float().mean().item()"
   ]
  },
  {
   "cell_type": "code",
   "execution_count": 28,
   "metadata": {
    "id": "5VzTQxAR5HoT"
   },
   "outputs": [],
   "source": [
    "class SAGELayer(nn.Module):\n",
    "    def __init__(self, ndim_in, edims, ndim_out, activation):\n",
    "        super(SAGELayer, self).__init__()\n",
    "        ### force to outut fix dimensions\n",
    "        self.W_msg = nn.Linear(ndim_in + edims, ndim_out)\n",
    "        ### apply weight\n",
    "        self.W_apply = nn.Linear(ndim_in + ndim_out, ndim_out)\n",
    "        self.activation = activation\n",
    "\n",
    "    def message_func(self, edges):\n",
    "        '''\n",
    "        edges.src['h']：源节点的特征\n",
    "        edges.data['h']：边的特征\n",
    "        th.cat([...], 2)：在特征维度（第2维）上将源节点特征和边特征拼接起来\n",
    "        :param edges:dgl的消息传递范式，这是一个 EdgeBatch 的实例， 在消息传递时，它被 DGL 在内部生成以表示一批边。 edges 有 src、 dst 和 data 共 3 个成员属性\n",
    "        :return:\n",
    "        '''\n",
    "        return {'m': self.W_msg(th.cat([edges.src['h'], edges.data['h']], 2))}\n",
    "\n",
    "    def forward(self, g_dgl, nfeats, efeats):\n",
    "        with g_dgl.local_scope():\n",
    "            # _dgl.local_scope() 是DGL（Deep Graph Library）中的一个上下文管理器，用于创建一个局部作用域来操作图数据。\n",
    "            # 在 local_scope 内，虽然图结构保持不变，但每次聚合操作都会更新节点特征 ndata['h']\n",
    "            # 每一层的聚合操作都会产生新的节点表示，这些表示会被用于下一层的计算\n",
    "            g = g_dgl\n",
    "            g.ndata['h'] = nfeats\n",
    "            g.edata['h'] = efeats\n",
    "            # Eq4\n",
    "            # 这是DGL图对象的一个方法，用于执行消息传递的全流程\n",
    "            # 它会对图中的所有节点和边执行消息传递操作\n",
    "            # dgl.fn.mean() 是DGL中的内置函数，用于计算节点的邻居节点的表示的均值,第一个参数是输入，第二个参数是输出，即将m求mean，输出到h_neigh中\n",
    "            g.update_all(self.message_func, fn.mean('m', 'h_neigh'))\n",
    "            # Eq5\n",
    "            # 将节点的原始特征 g.ndata['h'] 与邻居聚合特征 g.ndata['h_neigh'] 在特征维度上进行拼接（th.cat）\n",
    "            g.ndata['h'] = F.relu(self.W_apply(th.cat([g.ndata['h'], g.ndata['h_neigh']], 2)))\n",
    "            return g.ndata['h']\n",
    "\n",
    "\n",
    "class SAGE(nn.Module):\n",
    "    def __init__(self, ndim_in, ndim_out, edim, activation, dropout):\n",
    "        super(SAGE, self).__init__()\n",
    "        self.layers = nn.ModuleList()\n",
    "        self.layers.append(SAGELayer(ndim_in, edim, 128, activation))\n",
    "        self.layers.append(SAGELayer(128, edim, ndim_out, activation))\n",
    "        self.dropout = nn.Dropout(p=dropout)\n",
    "\n",
    "    def forward(self, g, nfeats, efeats):\n",
    "        '''\n",
    "        :param g: 图\n",
    "        :param nfeats: 节点特征\n",
    "        :param efeats: 边特征\n",
    "        :return:\n",
    "        '''\n",
    "        for i, layer in enumerate(self.layers):\n",
    "            if i != 0:\n",
    "                nfeats = self.dropout(nfeats)\n",
    "            nfeats = layer(g, nfeats, efeats)\n",
    "            # nfeats.sum(1) 的作用是压缩张量的中间维度，将形状从 (节点数, 1, 特征维度) 转换为 (节点数, 特征维度)，为后续的 MLPPredictor 层准备合适维度的节点特征输入。\n",
    "        return nfeats.sum(1)"
   ]
  },
  {
   "cell_type": "code",
   "execution_count": 29,
   "metadata": {
    "id": "hrLYvze5wwMi"
   },
   "outputs": [],
   "source": [
    "class MLPPredictor(nn.Module):\n",
    "    def __init__(self, in_features, out_classes):\n",
    "        super().__init__()\n",
    "        self.W = nn.Linear(in_features * 2, out_classes)\n",
    "\n",
    "    def apply_edges(self, edges):\n",
    "        h_u = edges.src['h']\n",
    "        h_v = edges.dst['h']\n",
    "        score = self.W(th.cat([h_u, h_v], 1))\n",
    "        return {'score': score}\n",
    "\n",
    "    def forward(self, graph, h):\n",
    "        with graph.local_scope():\n",
    "            graph.ndata['h'] = h\n",
    "            graph.apply_edges(self.apply_edges)\n",
    "            return graph.edata['score']"
   ]
  },
  {
   "cell_type": "code",
   "execution_count": 30,
   "metadata": {
    "id": "GPLg-kCcwxLa"
   },
   "outputs": [],
   "source": [
    "# 增加了一个维度，之后会将这个维度削减的，见nfeats.sum(1)\n",
    "G.ndata['h'] = th.reshape(G.ndata['h'], (G.ndata['h'].shape[0], 1,G.ndata['h'].shape[1]))\n",
    "G.edata['h'] = th.reshape(G.edata['h'], (G.edata['h'].shape[0], 1,G.edata['h'].shape[1]))"
   ]
  },
  {
   "cell_type": "code",
   "execution_count": 31,
   "metadata": {
    "id": "SwdZs785w1dT"
   },
   "outputs": [],
   "source": [
    "class Model(nn.Module):\n",
    "    def __init__(self, ndim_in, ndim_out, edim, activation, dropout):\n",
    "        super().__init__()\n",
    "        self.gnn = SAGE(ndim_in, ndim_out, edim, activation, dropout)\n",
    "        self.pred = MLPPredictor(ndim_out, 2)\n",
    "    def forward(self, g, nfeats, efeats):\n",
    "        # 将这个图加载到模型Model中，传统监督学习是使用Dataloader加载数据\n",
    "        h = self.gnn(g, nfeats, efeats)\n",
    "        return self.pred(g, h)"
   ]
  },
  {
   "cell_type": "code",
   "execution_count": 32,
   "metadata": {
    "id": "BEw7J1Z45R62"
   },
   "outputs": [],
   "source": [
    "from sklearn.utils import class_weight\n",
    "class_weights = class_weight.compute_class_weight('balanced',\n",
    "                                                 np.unique(G.edata['label'].cpu().numpy()),\n",
    "                                                 G.edata['label'].cpu().numpy())"
   ]
  },
  {
   "cell_type": "code",
   "execution_count": 33,
   "metadata": {
    "colab": {
     "base_uri": "https://localhost:8080/"
    },
    "id": "IZ39m_ib5VFV",
    "outputId": "f5cd4888-7824-4762-8771-905577300e16"
   },
   "outputs": [
    {
     "data": {
      "text/plain": [
       "array([21.65086074,  0.51181985])"
      ]
     },
     "execution_count": 33,
     "metadata": {
      "tags": []
     },
     "output_type": "execute_result"
    }
   ],
   "source": [
    "class_weights"
   ]
  },
  {
   "cell_type": "code",
   "execution_count": 34,
   "metadata": {
    "id": "Cti0vAFYw3A0"
   },
   "outputs": [],
   "source": [
    "class_weights = th.FloatTensor(class_weights).cuda()\n",
    "criterion = nn.CrossEntropyLoss(weight=class_weights)"
   ]
  },
  {
   "cell_type": "code",
   "execution_count": 35,
   "metadata": {
    "colab": {
     "base_uri": "https://localhost:8080/"
    },
    "id": "Rj3DHIZmw4IM",
    "outputId": "160b87cf-89c4-4dba-8be6-6fa6bc19442a"
   },
   "outputs": [
    {
     "data": {
      "text/plain": [
       "device(type='cuda', index=0)"
      ]
     },
     "execution_count": 35,
     "metadata": {
      "tags": []
     },
     "output_type": "execute_result"
    }
   ],
   "source": [
    "G = G.to('cuda:0')\n",
    "G.device"
   ]
  },
  {
   "cell_type": "code",
   "execution_count": 36,
   "metadata": {
    "colab": {
     "base_uri": "https://localhost:8080/"
    },
    "id": "qdlVG3JOw5Qj",
    "outputId": "73b046c5-aa9b-4017-9ae8-0d5525a71d2b"
   },
   "outputs": [
    {
     "data": {
      "text/plain": [
       "device(type='cuda', index=0)"
      ]
     },
     "execution_count": 36,
     "metadata": {
      "tags": []
     },
     "output_type": "execute_result"
    }
   ],
   "source": [
    "G.ndata['h'].device\n"
   ]
  },
  {
   "cell_type": "code",
   "execution_count": 37,
   "metadata": {
    "colab": {
     "base_uri": "https://localhost:8080/"
    },
    "id": "dvt3pnXmw6U7",
    "outputId": "de3250eb-f3f0-48f6-96ce-ec0232af5c7b"
   },
   "outputs": [
    {
     "data": {
      "text/plain": [
       "device(type='cuda', index=0)"
      ]
     },
     "execution_count": 37,
     "metadata": {
      "tags": []
     },
     "output_type": "execute_result"
    }
   ],
   "source": [
    "G.edata['h'].device\n"
   ]
  },
  {
   "cell_type": "code",
   "execution_count": 59,
   "metadata": {
    "colab": {
     "base_uri": "https://localhost:8080/"
    },
    "id": "-_eTiHzWw8Cz",
    "outputId": "03e07a05-03dc-4e26-e389-d7c02e542acd"
   },
   "outputs": [
    {
     "name": "stdout",
     "output_type": "stream",
     "text": [
      "Training acc: 0.917657732963562\n",
      "Training acc: 0.9214499592781067\n",
      "Training acc: 0.9220617413520813\n",
      "Training acc: 0.9209012389183044\n",
      "Training acc: 0.9199811816215515\n",
      "Training acc: 0.9219117760658264\n",
      "Training acc: 0.9213380813598633\n",
      "Training acc: 0.9229342341423035\n",
      "Training acc: 0.9236853122711182\n",
      "Training acc: 0.9310590624809265\n",
      "Training acc: 0.9283750057220459\n",
      "Training acc: 0.9307484030723572\n",
      "Training acc: 0.9339216947555542\n",
      "Training acc: 0.9336300492286682\n",
      "Training acc: 0.9345822930335999\n",
      "Training acc: 0.9322493672370911\n",
      "Training acc: 0.9349703192710876\n",
      "Training acc: 0.931145966053009\n",
      "Training acc: 0.9312126040458679\n",
      "Training acc: 0.9338704943656921\n",
      "Training acc: 0.9308186173439026\n",
      "Training acc: 0.9341264367103577\n",
      "Training acc: 0.9359832406044006\n",
      "Training acc: 0.9327052235603333\n",
      "Training acc: 0.9318863153457642\n",
      "Training acc: 0.9356821179389954\n",
      "Training acc: 0.9337419867515564\n",
      "Training acc: 0.9338050484657288\n",
      "Training acc: 0.9354238510131836\n",
      "Training acc: 0.9327445030212402\n",
      "Training acc: 0.933546781539917\n",
      "Training acc: 0.9324278831481934\n",
      "Training acc: 0.9349667429924011\n",
      "Training acc: 0.9356011748313904\n",
      "Training acc: 0.9337181448936462\n",
      "Training acc: 0.9347203969955444\n",
      "Training acc: 0.934268057346344\n",
      "Training acc: 0.9349667429924011\n",
      "Training acc: 0.9356761574745178\n",
      "Training acc: 0.935248851776123\n",
      "Training acc: 0.9358094930648804\n",
      "Training acc: 0.9349513053894043\n",
      "Training acc: 0.9347084760665894\n",
      "Training acc: 0.9349203109741211\n",
      "Training acc: 0.9346882104873657\n",
      "Training acc: 0.9354416728019714\n",
      "Training acc: 0.9368842840194702\n",
      "Training acc: 0.9356821179389954\n",
      "Training acc: 0.9357939958572388\n",
      "Training acc: 0.9386221170425415\n",
      "Training acc: 0.9356309175491333\n",
      "Training acc: 0.935165524482727\n",
      "Training acc: 0.934429943561554\n",
      "Training acc: 0.9352143406867981\n"
     ]
    }
   ],
   "source": [
    "node_features = G.ndata['h']\n",
    "edge_features = G.edata['h']\n",
    "\n",
    "edge_label = G.edata['label']\n",
    "train_mask = G.edata['train_mask']\n",
    "\n",
    "model = Model(G.ndata['h'].shape[2], 128, G.ndata['h'].shape[2], F.relu, 0.2).cuda()\n",
    "opt = th.optim.Adam(model.parameters())\n",
    "\n",
    "for epoch in range(1,5500):\n",
    "    pred = model(G, node_features,edge_features).cuda()\n",
    "    loss = criterion(pred[train_mask] ,edge_label[train_mask])\n",
    "    opt.zero_grad()\n",
    "    loss.backward()\n",
    "    opt.step()\n",
    "    if epoch % 100 == 0:\n",
    "      print('Training acc:', compute_accuracy(pred[train_mask], edge_label[train_mask]))\n"
   ]
  },
  {
   "cell_type": "code",
   "execution_count": 39,
   "metadata": {
    "id": "p7gYo6lVtHCN"
   },
   "outputs": [],
   "source": [
    "X_test = encoder.transform(X_test)"
   ]
  },
  {
   "cell_type": "code",
   "execution_count": 40,
   "metadata": {
    "id": "OUGIEbMFtSnf"
   },
   "outputs": [],
   "source": [
    "X_test[cols_to_norm] = scaler.transform(X_test[cols_to_norm])"
   ]
  },
  {
   "cell_type": "code",
   "execution_count": 41,
   "metadata": {
    "colab": {
     "base_uri": "https://localhost:8080/",
     "height": 439
    },
    "id": "VlyqlEqjtb9s",
    "outputId": "3330aba4-3495-4d95-ed26-8dd30ea3c3d0"
   },
   "outputs": [
    {
     "data": {
      "text/html": [
       "<div>\n",
       "<style scoped>\n",
       "    .dataframe tbody tr th:only-of-type {\n",
       "        vertical-align: middle;\n",
       "    }\n",
       "\n",
       "    .dataframe tbody tr th {\n",
       "        vertical-align: top;\n",
       "    }\n",
       "\n",
       "    .dataframe thead th {\n",
       "        text-align: right;\n",
       "    }\n",
       "</style>\n",
       "<table border=\"1\" class=\"dataframe\">\n",
       "  <thead>\n",
       "    <tr style=\"text-align: right;\">\n",
       "      <th></th>\n",
       "      <th>IPV4_SRC_ADDR</th>\n",
       "      <th>IPV4_DST_ADDR</th>\n",
       "      <th>PROTOCOL</th>\n",
       "      <th>L7_PROTO</th>\n",
       "      <th>IN_BYTES</th>\n",
       "      <th>OUT_BYTES</th>\n",
       "      <th>IN_PKTS</th>\n",
       "      <th>OUT_PKTS</th>\n",
       "      <th>TCP_FLAGS</th>\n",
       "      <th>FLOW_DURATION_MILLISECONDS</th>\n",
       "      <th>label</th>\n",
       "    </tr>\n",
       "  </thead>\n",
       "  <tbody>\n",
       "    <tr>\n",
       "      <th>175006</th>\n",
       "      <td>172.20.224.183:52476</td>\n",
       "      <td>192.168.100.6:3371</td>\n",
       "      <td>0.242607</td>\n",
       "      <td>0.041512</td>\n",
       "      <td>-0.017305</td>\n",
       "      <td>-0.008442</td>\n",
       "      <td>-0.045637</td>\n",
       "      <td>-0.027054</td>\n",
       "      <td>0.343039</td>\n",
       "      <td>0.496716</td>\n",
       "      <td>1</td>\n",
       "    </tr>\n",
       "    <tr>\n",
       "      <th>42610</th>\n",
       "      <td>172.20.88.47:42656</td>\n",
       "      <td>192.168.100.3:80</td>\n",
       "      <td>0.242607</td>\n",
       "      <td>0.254635</td>\n",
       "      <td>-0.016078</td>\n",
       "      <td>-0.007523</td>\n",
       "      <td>-0.025459</td>\n",
       "      <td>-0.009069</td>\n",
       "      <td>0.321493</td>\n",
       "      <td>0.488632</td>\n",
       "      <td>1</td>\n",
       "    </tr>\n",
       "    <tr>\n",
       "      <th>343626</th>\n",
       "      <td>172.24.83.27:59940</td>\n",
       "      <td>192.168.100.7:7402</td>\n",
       "      <td>0.242607</td>\n",
       "      <td>0.041512</td>\n",
       "      <td>-0.017305</td>\n",
       "      <td>-0.008442</td>\n",
       "      <td>-0.045637</td>\n",
       "      <td>-0.027054</td>\n",
       "      <td>0.343039</td>\n",
       "      <td>0.496716</td>\n",
       "      <td>1</td>\n",
       "    </tr>\n",
       "    <tr>\n",
       "      <th>125174</th>\n",
       "      <td>172.17.188.133:14622</td>\n",
       "      <td>192.168.100.3:12344</td>\n",
       "      <td>0.242607</td>\n",
       "      <td>0.041512</td>\n",
       "      <td>-0.017313</td>\n",
       "      <td>-0.008442</td>\n",
       "      <td>-0.045637</td>\n",
       "      <td>-0.027054</td>\n",
       "      <td>0.343039</td>\n",
       "      <td>0.496716</td>\n",
       "      <td>1</td>\n",
       "    </tr>\n",
       "    <tr>\n",
       "      <th>118951</th>\n",
       "      <td>172.28.20.54:53588</td>\n",
       "      <td>192.168.100.6:5002</td>\n",
       "      <td>0.242607</td>\n",
       "      <td>0.041512</td>\n",
       "      <td>-0.017305</td>\n",
       "      <td>-0.008442</td>\n",
       "      <td>-0.045637</td>\n",
       "      <td>-0.027054</td>\n",
       "      <td>0.343039</td>\n",
       "      <td>0.496716</td>\n",
       "      <td>1</td>\n",
       "    </tr>\n",
       "    <tr>\n",
       "      <th>...</th>\n",
       "      <td>...</td>\n",
       "      <td>...</td>\n",
       "      <td>...</td>\n",
       "      <td>...</td>\n",
       "      <td>...</td>\n",
       "      <td>...</td>\n",
       "      <td>...</td>\n",
       "      <td>...</td>\n",
       "      <td>...</td>\n",
       "      <td>...</td>\n",
       "      <td>...</td>\n",
       "    </tr>\n",
       "    <tr>\n",
       "      <th>190354</th>\n",
       "      <td>172.19.134.92:56591</td>\n",
       "      <td>192.168.100.5:50300</td>\n",
       "      <td>0.242607</td>\n",
       "      <td>0.041512</td>\n",
       "      <td>-0.017305</td>\n",
       "      <td>-0.008442</td>\n",
       "      <td>-0.045637</td>\n",
       "      <td>-0.027054</td>\n",
       "      <td>0.343039</td>\n",
       "      <td>0.496716</td>\n",
       "      <td>1</td>\n",
       "    </tr>\n",
       "    <tr>\n",
       "      <th>568549</th>\n",
       "      <td>172.16.123.10:34808</td>\n",
       "      <td>192.168.100.3:80</td>\n",
       "      <td>0.242607</td>\n",
       "      <td>0.254635</td>\n",
       "      <td>-0.015753</td>\n",
       "      <td>-0.007441</td>\n",
       "      <td>-0.021424</td>\n",
       "      <td>-0.003074</td>\n",
       "      <td>0.321493</td>\n",
       "      <td>-2.080333</td>\n",
       "      <td>1</td>\n",
       "    </tr>\n",
       "    <tr>\n",
       "      <th>302561</th>\n",
       "      <td>172.24.94.101:62675</td>\n",
       "      <td>192.168.100.6:211</td>\n",
       "      <td>0.242607</td>\n",
       "      <td>0.041512</td>\n",
       "      <td>-0.017305</td>\n",
       "      <td>-0.008442</td>\n",
       "      <td>-0.045637</td>\n",
       "      <td>-0.027054</td>\n",
       "      <td>0.343039</td>\n",
       "      <td>0.496716</td>\n",
       "      <td>1</td>\n",
       "    </tr>\n",
       "    <tr>\n",
       "      <th>451022</th>\n",
       "      <td>172.22.196.215:37508</td>\n",
       "      <td>192.168.100.3:42510</td>\n",
       "      <td>0.242607</td>\n",
       "      <td>0.041512</td>\n",
       "      <td>-0.017305</td>\n",
       "      <td>-0.008442</td>\n",
       "      <td>-0.045637</td>\n",
       "      <td>-0.027054</td>\n",
       "      <td>0.343039</td>\n",
       "      <td>0.496716</td>\n",
       "      <td>1</td>\n",
       "    </tr>\n",
       "    <tr>\n",
       "      <th>80381</th>\n",
       "      <td>172.16.70.182:64088</td>\n",
       "      <td>192.168.100.6:406</td>\n",
       "      <td>0.242607</td>\n",
       "      <td>0.041512</td>\n",
       "      <td>-0.017305</td>\n",
       "      <td>-0.008442</td>\n",
       "      <td>-0.045637</td>\n",
       "      <td>-0.027054</td>\n",
       "      <td>0.343039</td>\n",
       "      <td>0.496716</td>\n",
       "      <td>1</td>\n",
       "    </tr>\n",
       "  </tbody>\n",
       "</table>\n",
       "<p>180030 rows × 11 columns</p>\n",
       "</div>"
      ],
      "text/plain": [
       "               IPV4_SRC_ADDR  ... label\n",
       "175006  172.20.224.183:52476  ...     1\n",
       "42610     172.20.88.47:42656  ...     1\n",
       "343626    172.24.83.27:59940  ...     1\n",
       "125174  172.17.188.133:14622  ...     1\n",
       "118951    172.28.20.54:53588  ...     1\n",
       "...                      ...  ...   ...\n",
       "190354   172.19.134.92:56591  ...     1\n",
       "568549   172.16.123.10:34808  ...     1\n",
       "302561   172.24.94.101:62675  ...     1\n",
       "451022  172.22.196.215:37508  ...     1\n",
       "80381    172.16.70.182:64088  ...     1\n",
       "\n",
       "[180030 rows x 11 columns]"
      ]
     },
     "execution_count": 41,
     "metadata": {
      "tags": []
     },
     "output_type": "execute_result"
    }
   ],
   "source": [
    "X_test"
   ]
  },
  {
   "cell_type": "code",
   "execution_count": 42,
   "metadata": {
    "id": "q5CMxVe5xIDb"
   },
   "outputs": [],
   "source": [
    "X_test['h'] = X_test[ cols_to_norm ].values.tolist()"
   ]
  },
  {
   "cell_type": "code",
   "execution_count": 43,
   "metadata": {
    "id": "VsAmtLAbxN_6"
   },
   "outputs": [],
   "source": [
    "G_test = nx.from_pandas_edgelist(X_test, \"IPV4_SRC_ADDR\", \"IPV4_DST_ADDR\", ['h','label'],create_using=nx.MultiGraph())\n",
    "G_test = G_test.to_directed()\n",
    "G_test = from_networkx(G_test,edge_attrs=['h','label'] )\n",
    "actual = G_test.edata.pop('label')\n",
    "G_test.ndata['feature'] = th.ones(G_test.num_nodes(), G.ndata['h'].shape[2])"
   ]
  },
  {
   "cell_type": "code",
   "execution_count": 44,
   "metadata": {
    "id": "Eeux6JIxxQtC"
   },
   "outputs": [],
   "source": [
    "G_test.ndata['feature'] = th.reshape(G_test.ndata['feature'], (G_test.ndata['feature'].shape[0], 1, G_test.ndata['feature'].shape[1]))"
   ]
  },
  {
   "cell_type": "code",
   "execution_count": 45,
   "metadata": {
    "id": "PBETQI3YxYay"
   },
   "outputs": [],
   "source": [
    "G_test.edata['h'] = th.reshape(G_test.edata['h'], (G_test.edata['h'].shape[0], 1, G_test.edata['h'].shape[1]))\n"
   ]
  },
  {
   "cell_type": "code",
   "execution_count": 46,
   "metadata": {
    "id": "qlTOyVN6xZZB"
   },
   "outputs": [],
   "source": [
    "G_test = G_test.to('cuda:0')\n"
   ]
  },
  {
   "cell_type": "code",
   "execution_count": 60,
   "metadata": {
    "id": "QyugNIt9xac6"
   },
   "outputs": [],
   "source": [
    "import timeit\n",
    "start_time = timeit.default_timer()\n",
    "node_features_test = G_test.ndata['feature']\n",
    "edge_features_test = G_test.edata['h']\n",
    "test_pred = model(G_test, node_features_test, edge_features_test).cuda()\n",
    "elapsed = timeit.default_timer() - start_time"
   ]
  },
  {
   "cell_type": "code",
   "execution_count": 61,
   "metadata": {
    "colab": {
     "base_uri": "https://localhost:8080/"
    },
    "id": "KecCvilSxcFK",
    "outputId": "685bdc3d-254d-423d-9222-bb48e7255621"
   },
   "outputs": [
    {
     "name": "stdout",
     "output_type": "stream",
     "text": [
      "0.029059830000278453 seconds\n"
     ]
    }
   ],
   "source": [
    "print(str(elapsed) + ' seconds')\n"
   ]
  },
  {
   "cell_type": "code",
   "execution_count": 62,
   "metadata": {
    "id": "BNQLnLoAxdST"
   },
   "outputs": [],
   "source": [
    "test_pred = test_pred.argmax(1)\n"
   ]
  },
  {
   "cell_type": "code",
   "execution_count": 63,
   "metadata": {
    "id": "9dtggXXsxevx"
   },
   "outputs": [],
   "source": [
    "test_pred = th.Tensor.cpu(test_pred).detach().numpy()\n"
   ]
  },
  {
   "cell_type": "code",
   "execution_count": 64,
   "metadata": {
    "id": "5TGb_KWRxfzS"
   },
   "outputs": [],
   "source": [
    "actual = [\"Normal\" if i == 0 else \"Attack\" for i in actual]\n",
    "test_pred = [\"Normal\" if i == 0 else \"Attack\" for i in test_pred]"
   ]
  },
  {
   "cell_type": "code",
   "execution_count": 65,
   "metadata": {
    "id": "n7z7tHTPxhBC"
   },
   "outputs": [],
   "source": [
    "from sklearn.metrics import plot_confusion_matrix\n"
   ]
  },
  {
   "cell_type": "code",
   "execution_count": 66,
   "metadata": {
    "id": "uMRairwzxiBC"
   },
   "outputs": [],
   "source": [
    "import numpy as np\n",
    "\n",
    "\n",
    "def plot_confusion_matrix(cm,\n",
    "                          target_names,\n",
    "                          title='Confusion matrix',\n",
    "                          cmap=None,\n",
    "                          normalize=True):\n",
    "    \n",
    "    import matplotlib.pyplot as plt\n",
    "    import numpy as np\n",
    "    import itertools\n",
    "\n",
    "    accuracy = np.trace(cm) / float(np.sum(cm))\n",
    "    misclass = 1 - accuracy\n",
    "\n",
    "    if cmap is None:\n",
    "        cmap = plt.get_cmap('Blues')\n",
    "\n",
    "    plt.figure(figsize=(12, 12))\n",
    "    plt.imshow(cm, interpolation='nearest', cmap=cmap)\n",
    "    plt.title(title)\n",
    "    plt.colorbar()\n",
    "\n",
    "    if target_names is not None:\n",
    "        tick_marks = np.arange(len(target_names))\n",
    "        plt.xticks(tick_marks, target_names, rotation=45)\n",
    "        plt.yticks(tick_marks, target_names)\n",
    "\n",
    "    if normalize:\n",
    "        cm = cm.astype('float') / cm.sum(axis=1)[:, np.newaxis]\n",
    "\n",
    "\n",
    "    thresh = cm.max() / 1.5 if normalize else cm.max() / 2\n",
    "    for i, j in itertools.product(range(cm.shape[0]), range(cm.shape[1])):\n",
    "        if normalize:\n",
    "            plt.text(j, i, \"{:0.4f}\".format(cm[i, j]),\n",
    "                     horizontalalignment=\"center\",\n",
    "                     color=\"white\" if cm[i, j] > thresh else \"black\")\n",
    "        else:\n",
    "            plt.text(j, i, \"{:,}\".format(cm[i, j]),\n",
    "                     horizontalalignment=\"center\",\n",
    "                     color=\"white\" if cm[i, j] > thresh else \"black\")\n",
    "\n",
    "\n",
    "    plt.tight_layout()\n",
    "    plt.ylabel('True label')\n",
    "    plt.xlabel('Predicted label\\naccuracy={:0.4f}; misclass={:0.4f}'.format(accuracy, misclass))\n",
    "    plt.show()"
   ]
  },
  {
   "cell_type": "code",
   "execution_count": 67,
   "metadata": {
    "colab": {
     "base_uri": "https://localhost:8080/",
     "height": 873
    },
    "id": "KNCkVWyqxjaR",
    "outputId": "ae48a136-c1ac-4754-b499-b287f7c5f24f"
   },
   "outputs": [
    {
     "data": {
      "image/png": "[encoded data removed]",
      "text/plain": [
       "<Figure size 864x864 with 2 Axes>"
      ]
     },
     "metadata": {
      "needs_background": "light",
      "tags": []
     },
     "output_type": "display_data"
    }
   ],
   "source": [
    "from sklearn.metrics import confusion_matrix\n",
    "\n",
    "plot_confusion_matrix(cm = confusion_matrix(actual, test_pred), \n",
    "                      normalize    = False,\n",
    "                      target_names = np.unique(actual),\n",
    "                      title        = \"Confusion Matrix\")"
   ]
  },
  {
   "cell_type": "code",
   "execution_count": null,
   "metadata": {
    "id": "yO55tl6rnD3-"
   },
   "outputs": [],
   "source": []
  }
 ],
 "metadata": {
  "accelerator": "GPU",
  "colab": {
   "collapsed_sections": [],
   "machine_shape": "hm",
   "name": "unsw_bot_iot_binary_mean_agg.ipynb",
   "provenance": []
  },
  "kernelspec": {
   "display_name": "Python 3",
   "language": "python",
   "name": "python3"
  },
  "language_info": {
   "codemirror_mode": {
    "name": "ipython",
    "version": 3
   },
   "file_extension": ".py",
   "mimetype": "text/x-python",
   "name": "python",
   "nbconvert_exporter": "python",
   "pygments_lexer": "ipython3",
   "version": "3.8.5"
  }
 },
 "nbformat": 4,
 "nbformat_minor": 0
}
